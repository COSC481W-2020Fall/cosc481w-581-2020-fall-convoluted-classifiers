{
 "cells": [
  {
   "cell_type": "code",
   "execution_count": 2,
   "metadata": {},
   "outputs": [],
   "source": [
    "import os"
   ]
  },
  {
   "cell_type": "code",
   "execution_count": 5,
   "metadata": {},
   "outputs": [
    {
     "name": "stdout",
     "output_type": "stream",
     "text": [
      "120 breeds\n",
      "20580 images\n"
     ]
    }
   ],
   "source": [
    "breed_list = os.listdir(\"Stanford_dog_dataset/images/Images/\")\n",
    "\n",
    "num_classes = len(breed_list)\n",
    "print(\"{} breeds\".format(num_classes))\n",
    "\n",
    "n_total_images = 0\n",
    "for breed in breed_list:\n",
    "    n_total_images += len(os.listdir(\"Stanford_dog_dataset/images/Images/{}\".format(breed)))\n",
    "print(\"{} images\".format(n_total_images))\n"
   ]
  },
  {
   "cell_type": "code",
   "execution_count": 8,
   "metadata": {},
   "outputs": [
    {
     "name": "stdout",
     "output_type": "stream",
     "text": [
      "Created 120 folders to store Training images of the different breeds.\n",
      "Created 120 folders to store Validation images of the different breeds.\n"
     ]
    }
   ],
   "source": [
    "from PIL import Image\n",
    "breed_in_use = 1\n",
    "\n",
    "number_of_used_breed = 120\n",
    "\n",
    "os.makedirs('data',exist_ok= True)\n",
    "os.makedirs('data/Training',exist_ok= True)\n",
    "os.makedirs('data/Validation',exist_ok= True)\n",
    "for breed in breed_list:\n",
    "    os.makedirs('data/Training/' + breed,exist_ok= True)\n",
    "    os.makedirs('data/Validation/' + breed,exist_ok= True)\n",
    "    if breed_in_use == number_of_used_breed:\n",
    "        break\n",
    "    breed_in_use = breed_in_use+1\n",
    "print('Created {} folders to store Training images of the different breeds.'.format(len(os.listdir('data/Training'))))\n",
    "print('Created {} folders to store Validation images of the different breeds.'.format(len(os.listdir('data/Validation'))))\n",
    "\n",
    "validation_to_training_ratio = .1\n",
    "breed_in_use = 1\n",
    "for breed in os.listdir('data/Training'):\n",
    "    cpt = sum([len(files) for r, d, files in os.walk('Stanford_dog_dataset/images/Images/{}/'.format(breed))])\n",
    "    validation = (int)(cpt * validation_to_training_ratio)\n",
    "    index = 0\n",
    "    for file in os.listdir('Stanford_dog_dataset/annotation/Annotation/{}'.format(breed)):\n",
    "        img = Image.open('Stanford_dog_dataset/images/Images/{}/{}.jpg'.format(breed, file))\n",
    "        img = img.convert('RGB')        \n",
    "        if index<validation:\n",
    "            img.save('data/Validation/' + breed + '/' + file + '.jpg')\n",
    "        else:\n",
    "            img.save('data/Training/' + breed + '/' + file + '.jpg')\n",
    "        index = index +1\n",
    "    if breed_in_use == number_of_used_breed:\n",
    "        break    \n",
    "    breed_in_use = breed_in_use+1"
   ]
  },
  {
   "cell_type": "code",
   "execution_count": null,
   "metadata": {},
   "outputs": [],
   "source": []
  }
 ],
 "metadata": {
  "kernelspec": {
   "display_name": "Python 3",
   "language": "python",
   "name": "python3"
  },
  "language_info": {
   "codemirror_mode": {
    "name": "ipython",
    "version": 3
   },
   "file_extension": ".py",
   "mimetype": "text/x-python",
   "name": "python",
   "nbconvert_exporter": "python",
   "pygments_lexer": "ipython3",
   "version": "3.7.9"
  }
 },
 "nbformat": 4,
 "nbformat_minor": 4
}
